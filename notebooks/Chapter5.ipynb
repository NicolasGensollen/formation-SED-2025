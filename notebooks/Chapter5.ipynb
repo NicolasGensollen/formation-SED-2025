{
 "cells": [
  {
   "cell_type": "markdown",
   "id": "c39be1c6-a825-4b30-8d7f-2114cc3b34bf",
   "metadata": {},
   "source": [
    "# Writting the package documentation\n",
    "\n",
    "- tools\n",
    "- hosting platforms\n",
    "- what makes a good doc (quickstart, install, user guide, example gallery, API reference, contributing guide...)\n",
    "- configure and build our doc with Sphinx\n",
    "- Use auto-API for the API reference"
   ]
  }
 ],
 "metadata": {
  "kernelspec": {
   "display_name": "Python 3 (ipykernel)",
   "language": "python",
   "name": "python3"
  },
  "language_info": {
   "codemirror_mode": {
    "name": "ipython",
    "version": 3
   },
   "file_extension": ".py",
   "mimetype": "text/x-python",
   "name": "python",
   "nbconvert_exporter": "python",
   "pygments_lexer": "ipython3",
   "version": "3.12.11"
  }
 },
 "nbformat": 4,
 "nbformat_minor": 5
}
