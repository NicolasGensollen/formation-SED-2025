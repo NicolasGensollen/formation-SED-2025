{
 "cells": [
  {
   "cell_type": "markdown",
   "id": "87c8d13e-7985-4a8d-be6e-b9a2da159e87",
   "metadata": {},
   "source": [
    "# Chapter 1\n",
    "\n",
    "This is chapter 1."
   ]
  },
  {
   "cell_type": "code",
   "execution_count": null,
   "id": "27cea3d1-e5a6-4819-a7fa-ea81058d05ba",
   "metadata": {},
   "outputs": [],
   "source": []
  }
 ],
 "metadata": {
  "kernelspec": {
   "display_name": "Python 3 (ipykernel)",
   "language": "python",
   "name": "python3"
  },
  "language_info": {
   "codemirror_mode": {
    "name": "ipython",
    "version": 3
   },
   "file_extension": ".py",
   "mimetype": "text/x-python",
   "name": "python",
   "nbconvert_exporter": "python",
   "pygments_lexer": "ipython3",
   "version": "3.12.11"
  }
 },
 "nbformat": 4,
 "nbformat_minor": 5
}
