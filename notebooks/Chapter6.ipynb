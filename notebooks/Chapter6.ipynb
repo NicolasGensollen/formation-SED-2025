{
 "cells": [
  {
   "cell_type": "markdown",
   "id": "abb96336-90fa-494a-b4c9-b86e0fd001f8",
   "metadata": {},
   "source": [
    "# Doing a release\n",
    "\n",
    "- what it means\n",
    "- Pypi and test Pypi\n",
    "- using automation to simplify our life"
   ]
  },
  {
   "cell_type": "code",
   "execution_count": null,
   "id": "c120eb27-37ff-4a60-9736-66c2c2603d3c",
   "metadata": {},
   "outputs": [],
   "source": []
  }
 ],
 "metadata": {
  "kernelspec": {
   "display_name": "Python 3 (ipykernel)",
   "language": "python",
   "name": "python3"
  },
  "language_info": {
   "codemirror_mode": {
    "name": "ipython",
    "version": 3
   },
   "file_extension": ".py",
   "mimetype": "text/x-python",
   "name": "python",
   "nbconvert_exporter": "python",
   "pygments_lexer": "ipython3",
   "version": "3.12.11"
  }
 },
 "nbformat": 4,
 "nbformat_minor": 5
}
